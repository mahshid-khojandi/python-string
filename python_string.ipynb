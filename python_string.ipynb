{
  "nbformat": 4,
  "nbformat_minor": 0,
  "metadata": {
    "colab": {
      "provenance": [],
      "authorship_tag": "ABX9TyMawpxvwv+AOUMw7jwpBUSq",
      "include_colab_link": true
    },
    "kernelspec": {
      "name": "python3",
      "display_name": "Python 3"
    },
    "language_info": {
      "name": "python"
    }
  },
  "cells": [
    {
      "cell_type": "markdown",
      "metadata": {
        "id": "view-in-github",
        "colab_type": "text"
      },
      "source": [
        "<a href=\"https://colab.research.google.com/github/mahshid-khojandi/python-string/blob/main/python_string.ipynb\" target=\"_parent\"><img src=\"https://colab.research.google.com/assets/colab-badge.svg\" alt=\"Open In Colab\"/></a>"
      ]
    },
    {
      "cell_type": "code",
      "source": [
        "n = 14.2\n",
        "m = 14.5\n",
        "a = 14.6\n",
        "x = 14.7\n",
        "print (round(n))\n",
        "print (round(m))\n",
        "print (round(a))\n",
        "print (round(x))"
      ],
      "metadata": {
        "colab": {
          "base_uri": "https://localhost:8080/"
        },
        "id": "PWrLPfRU9Bwv",
        "outputId": "472b6e22-4d1d-4e87-a649-ee048a83aca6"
      },
      "execution_count": 6,
      "outputs": [
        {
          "output_type": "stream",
          "name": "stdout",
          "text": [
            "14\n",
            "14\n",
            "15\n",
            "15\n"
          ]
        }
      ]
    },
    {
      "cell_type": "code",
      "source": [
        "# Building a string\n",
        "a = 'abcd'\n",
        "b = '1234'\n",
        "x = 1234\n",
        "print (type(a))\n",
        "print (type(b))\n",
        "print (type(x))"
      ],
      "metadata": {
        "colab": {
          "base_uri": "https://localhost:8080/"
        },
        "id": "lXjAJiu-9feK",
        "outputId": "15954999-adc4-49b4-993d-a509c71a918d"
      },
      "execution_count": 22,
      "outputs": [
        {
          "output_type": "stream",
          "name": "stdout",
          "text": [
            "<class 'str'>\n",
            "<class 'str'>\n",
            "<class 'int'>\n"
          ]
        }
      ]
    },
    {
      "cell_type": "code",
      "source": [
        "# Access to characters by indexing\n",
        "n = 'abcde'\n",
        "print (n[0])\n",
        "print (n[1])\n",
        "print (n[2])"
      ],
      "metadata": {
        "colab": {
          "base_uri": "https://localhost:8080/"
        },
        "id": "XTeBhqNM-4AQ",
        "outputId": "c27ca1b6-141c-469f-b0e8-8d60c3d1213e"
      },
      "execution_count": 10,
      "outputs": [
        {
          "output_type": "stream",
          "name": "stdout",
          "text": [
            "a\n",
            "b\n",
            "c\n"
          ]
        }
      ]
    },
    {
      "cell_type": "code",
      "source": [
        "n = 'abcde'\n",
        "print (n[-1])\n",
        "print (n[-2])\n",
        "print (n[-3])"
      ],
      "metadata": {
        "colab": {
          "base_uri": "https://localhost:8080/"
        },
        "id": "JVjgKH8U_YrB",
        "outputId": "c550f05d-9756-410e-b820-d4088e7c1e36"
      },
      "execution_count": 11,
      "outputs": [
        {
          "output_type": "stream",
          "name": "stdout",
          "text": [
            "e\n",
            "d\n",
            "c\n"
          ]
        }
      ]
    },
    {
      "cell_type": "code",
      "source": [
        "# Access to characters by slicing\n",
        "n = 'abcde'\n",
        "print (n[0:4])\n",
        "print (n[:4])\n",
        "print (n[0:3])\n",
        "print (n[2:5])\n",
        "print (n[2:])\n",
        "print (n[:])"
      ],
      "metadata": {
        "colab": {
          "base_uri": "https://localhost:8080/"
        },
        "id": "hteLy5T-_iv1",
        "outputId": "c9a012cd-6359-4ba2-e8bc-00d2f35ec08c"
      },
      "execution_count": 18,
      "outputs": [
        {
          "output_type": "stream",
          "name": "stdout",
          "text": [
            "abcd\n",
            "abcd\n",
            "abc\n",
            "cde\n",
            "cde\n",
            "abcde\n"
          ]
        }
      ]
    },
    {
      "cell_type": "code",
      "source": [
        "n = 'ab'\n",
        "m = 'cde'\n",
        "print (n + m)\n",
        "print (n[0] + m[0:1])"
      ],
      "metadata": {
        "colab": {
          "base_uri": "https://localhost:8080/"
        },
        "id": "BrgMSR2LAmrt",
        "outputId": "3689c4db-6021-4840-e7fb-04107fc84867"
      },
      "execution_count": 21,
      "outputs": [
        {
          "output_type": "stream",
          "name": "stdout",
          "text": [
            "abcde\n",
            "ac\n"
          ]
        }
      ]
    },
    {
      "cell_type": "code",
      "source": [
        "# Specify the number of characters\n",
        "n = 'abcd'\n",
        "print (len(n))\n",
        "n = 'a  bcd'\n",
        "print (len(n))"
      ],
      "metadata": {
        "colab": {
          "base_uri": "https://localhost:8080/"
        },
        "id": "W30BBelgB9Qo",
        "outputId": "616f5ec9-b18f-445c-b211-d047e9d5b75b"
      },
      "execution_count": 24,
      "outputs": [
        {
          "output_type": "stream",
          "name": "stdout",
          "text": [
            "4\n",
            "6\n"
          ]
        }
      ]
    },
    {
      "cell_type": "code",
      "source": [
        "# Access to characters\n",
        "x = 'abcd'\n",
        "print ('reply1', x[2])\n",
        "x = 'ab cd'\n",
        "print ('reply2',x[2])"
      ],
      "metadata": {
        "colab": {
          "base_uri": "https://localhost:8080/"
        },
        "id": "rbDmsdMgCiFO",
        "outputId": "17680922-3af2-4a49-ee70-f0f5590600f0"
      },
      "execution_count": 28,
      "outputs": [
        {
          "output_type": "stream",
          "name": "stdout",
          "text": [
            "reply1 c\n",
            "reply2  \n"
          ]
        }
      ]
    }
  ]
}